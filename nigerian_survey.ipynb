{
 "cells": [
  {
   "cell_type": "code",
   "execution_count": null,
   "id": "b03df1a4-9f90-451a-badf-852b9fbfb7a2",
   "metadata": {},
   "outputs": [],
   "source": [
    "import csv\n",
    "\n",
    "responses = []\n",
    "\n",
    "for i in range(1, 100):\n",
    "    print(f\"\\nPerson {i}: \")\n",
    "\n",
    "    name = input(\"Enter your name: \")\n",
    "    gender = input(\"Enter your gender (Male/Female): \")\n",
    "    age = int(input(\"Enter your age: \"))\n",
    "    address = input(\"Enter your address: \")\n",
    "    status = input(\"Enter your marital status (Single/Married): \")\n",
    "    occupation = input(\"Enter occupation: \")\n",
    "    problems = input(\"Enter your problem: \")\n",
    "    \n",
    "    person_info = {\n",
    "         \"Name\": name,\n",
    "         \"Gender\": gender,\n",
    "         \"Age\": age,\n",
    "         \"Address\": address,\n",
    "         \"Status\": status,\n",
    "         \"Occupation\": occupation,\n",
    "         \"Problems\": problems\n",
    "    }\n",
    "\n",
    "    responses.append(person_info)\n",
    "\n",
    "    # Save to CSV file after each entry\n",
    "    with open(\"nigerian_survey.csv\", mode='w', newline='', encoding='utf-8') as file:\n",
    "        fieldnames = [\"Name\", \"Gender\", \"Age\", \"Address\", \"Status\", \"Occupation\", \"Problems\"]\n",
    "        writer = csv.DictWriter(file, fieldnames=fieldnames)\n",
    "        writer.writeheader()\n",
    "        writer.writerows(responses)\n",
    "\n",
    "    print(\"\\nSurvey Summary: \")\n",
    "    print(f\"Total responses collected: {len(responses)}\")\n",
    "    print(\"Data saved to 'nigerian_survey.csv'\")"
   ]
  }
 ],
 "metadata": {
  "kernelspec": {
   "display_name": "Python 3 (ipykernel)",
   "language": "python",
   "name": "python3"
  },
  "language_info": {
   "codemirror_mode": {
    "name": "ipython",
    "version": 3
   },
   "file_extension": ".py",
   "mimetype": "text/x-python",
   "name": "python",
   "nbconvert_exporter": "python",
   "pygments_lexer": "ipython3",
   "version": "3.12.7"
  }
 },
 "nbformat": 4,
 "nbformat_minor": 5
}
